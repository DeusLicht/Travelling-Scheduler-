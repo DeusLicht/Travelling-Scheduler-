{
 "cells": [
  {
   "cell_type": "code",
   "execution_count": 1,
   "metadata": {},
   "outputs": [],
   "source": [
    "import pandas as pd\n",
    "import matplotlib\n",
    "import matplotlib.pyplot as plt\n",
    "import numpy as np\n",
    "from bs4 import BeautifulSoup as Soup"
   ]
  },
  {
   "cell_type": "code",
   "execution_count": 6,
   "metadata": {},
   "outputs": [],
   "source": [
    "map_kml = \"Travel.kml\"\n",
    "with open('Travel.kml') as data:\n",
    "    kml_soup = Soup(data, 'lxml-xml')\n",
    "coord = kml_soup.find_all('coordinates')\n",
    "coord_list=[]\n",
    "for x in coord:\n",
    "    coord_list.append(str(x))\n",
    "#coord_list\n",
    "\n",
    "name = kml_soup.find_all('name')\n",
    "name_list = []\n",
    "for x in name:\n",
    "    name_list.append(str(x))"
   ]
  },
  {
   "cell_type": "code",
   "execution_count": null,
   "metadata": {},
   "outputs": [],
   "source": [
    "cor_col = ['Longitude', 'Latitude', 'Landmark']\n",
    "df_col = pd.DataFrame(columns = cor_col)\n",
    "for i, j in "
   ]
  }
 ],
 "metadata": {
  "kernelspec": {
   "display_name": "Python 3",
   "language": "python",
   "name": "python3"
  },
  "language_info": {
   "codemirror_mode": {
    "name": "ipython",
    "version": 3
   },
   "file_extension": ".py",
   "mimetype": "text/x-python",
   "name": "python",
   "nbconvert_exporter": "python",
   "pygments_lexer": "ipython3",
   "version": "3.7.4"
  }
 },
 "nbformat": 4,
 "nbformat_minor": 2
}
